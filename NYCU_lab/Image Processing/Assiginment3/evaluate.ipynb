{
 "cells": [
  {
   "cell_type": "markdown",
   "metadata": {},
   "source": [
    "<h3>Evaluate results</h3>"
   ]
  },
  {
   "cell_type": "code",
   "execution_count": 1,
   "metadata": {},
   "outputs": [],
   "source": [
    "import cv2\n",
    "import math"
   ]
  },
  {
   "cell_type": "markdown",
   "metadata": {},
   "source": [
    "<h3>Image 1</h3>"
   ]
  },
  {
   "cell_type": "code",
   "execution_count": 2,
   "metadata": {},
   "outputs": [
    {
     "name": "stdout",
     "output_type": "stream",
     "text": [
      "(160, 312, 3) (160, 312, 3)\n",
      "RMSE :  3.468285802850799\n"
     ]
    }
   ],
   "source": [
    "img1 = cv2.imread('original_balls.jpg')\n",
    "img2 = cv2.imread('new_balls.jpg')\n",
    "print(img1.shape,img2.shape)\n",
    "mse=0\n",
    "for i in range(img1.shape[0]):\n",
    "    for j in range(img1.shape[1]):\n",
    "        for c in range(img1.shape[2]):\n",
    "            mse+=math.pow(abs(int(img1[i,j,c])-int(img2[i,j,c])),2)\n",
    "\n",
    "print(\"RMSE : \",math.sqrt(mse/(img1.shape[0]*img1.shape[1]*3)))"
   ]
  },
  {
   "cell_type": "markdown",
   "metadata": {},
   "source": [
    "<h3>Image 2</h3>"
   ]
  },
  {
   "cell_type": "code",
   "execution_count": 3,
   "metadata": {},
   "outputs": [
    {
     "name": "stdout",
     "output_type": "stream",
     "text": [
      "(400, 664, 3) (400, 664, 3)\n",
      "RMSE :  4.99019684060981\n"
     ]
    }
   ],
   "source": [
    "img1 = cv2.imread('original_house.jpg')\n",
    "img2 = cv2.imread('new_house.jpg')\n",
    "print(img1.shape,img2.shape)\n",
    "mse=0\n",
    "for i in range(img1.shape[0]):\n",
    "    for j in range(img1.shape[1]):\n",
    "        for c in range(img1.shape[2]):\n",
    "            mse+=math.pow(abs(int(img1[i,j,c])-int(img2[i,j,c])),2)\n",
    "\n",
    "print(\"RMSE : \",math.sqrt(mse/(img1.shape[0]*img1.shape[1]*3)))"
   ]
  },
  {
   "cell_type": "markdown",
   "metadata": {},
   "source": [
    "<h3>Image 3</h3>"
   ]
  },
  {
   "cell_type": "code",
   "execution_count": 4,
   "metadata": {},
   "outputs": [
    {
     "name": "stdout",
     "output_type": "stream",
     "text": [
      "(960, 1280, 3) (960, 1280, 3)\n",
      "RMSE :  2.658735305864295\n"
     ]
    }
   ],
   "source": [
    "img1 = cv2.imread('original_leaves.jpg')\n",
    "img2 = cv2.imread('new_leaves.jpg')\n",
    "print(img1.shape,img2.shape)\n",
    "mse=0\n",
    "for i in range(img1.shape[0]):\n",
    "    for j in range(img1.shape[1]):\n",
    "        for c in range(img1.shape[2]):\n",
    "            mse+=math.pow(abs(int(img1[i,j,c])-int(img2[i,j,c])),2)\n",
    "\n",
    "print(\"RMSE : \",math.sqrt(mse/(img1.shape[0]*img1.shape[1]*3)))"
   ]
  },
  {
   "cell_type": "markdown",
   "metadata": {},
   "source": [
    "<h3>Image 4</h3>"
   ]
  },
  {
   "cell_type": "code",
   "execution_count": 5,
   "metadata": {},
   "outputs": [
    {
     "name": "stdout",
     "output_type": "stream",
     "text": [
      "(400, 600, 3) (400, 600, 3)\n",
      "RMSE :  6.890113891979177\n"
     ]
    }
   ],
   "source": [
    "img1 = cv2.imread('original_sprint.jpg')\n",
    "img2 = cv2.imread('new_sprint.jpg')\n",
    "print(img1.shape,img2.shape)\n",
    "mse=0\n",
    "for i in range(img1.shape[0]):\n",
    "    for j in range(img1.shape[1]):\n",
    "        for c in range(img1.shape[2]):\n",
    "            mse+=math.pow(abs(int(img1[i,j,c])-int(img2[i,j,c])),2)\n",
    "\n",
    "print(\"RMSE : \",math.sqrt(mse/(img1.shape[0]*img1.shape[1]*3)))"
   ]
  },
  {
   "cell_type": "markdown",
   "metadata": {},
   "source": [
    "<h3>Image 5</h3>"
   ]
  },
  {
   "cell_type": "code",
   "execution_count": 6,
   "metadata": {},
   "outputs": [
    {
     "name": "stdout",
     "output_type": "stream",
     "text": [
      "(408, 608, 3) (408, 608, 3)\n",
      "RMSE :  3.008186982052254\n"
     ]
    }
   ],
   "source": [
    "img1 = cv2.imread('original_scene.jpg')\n",
    "img2 = cv2.imread('new_scene.jpg')\n",
    "print(img1.shape,img2.shape)\n",
    "mse=0\n",
    "for i in range(img1.shape[0]):\n",
    "    for j in range(img1.shape[1]):\n",
    "        for c in range(img1.shape[2]):\n",
    "            mse+=math.pow(abs(int(img1[i,j,c])-int(img2[i,j,c])),2)\n",
    "\n",
    "print(\"RMSE : \",math.sqrt(mse/(img1.shape[0]*img1.shape[1]*3)))"
   ]
  },
  {
   "cell_type": "code",
   "execution_count": null,
   "metadata": {},
   "outputs": [],
   "source": []
  }
 ],
 "metadata": {
  "kernelspec": {
   "display_name": "Python 3",
   "language": "python",
   "name": "python3"
  },
  "language_info": {
   "codemirror_mode": {
    "name": "ipython",
    "version": 3
   },
   "file_extension": ".py",
   "mimetype": "text/x-python",
   "name": "python",
   "nbconvert_exporter": "python",
   "pygments_lexer": "ipython3",
   "version": "3.7.6"
  }
 },
 "nbformat": 4,
 "nbformat_minor": 4
}
