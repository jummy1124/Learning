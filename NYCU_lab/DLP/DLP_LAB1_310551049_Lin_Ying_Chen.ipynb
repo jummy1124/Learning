{
 "cells": [
  {
   "cell_type": "code",
   "execution_count": 1,
   "metadata": {},
   "outputs": [],
   "source": [
    "import matplotlib.pyplot as plt\n",
    "import numpy as np"
   ]
  },
  {
   "cell_type": "markdown",
   "metadata": {},
   "source": [
    "<h3>Define the functions of create raw data </h3>"
   ]
  },
  {
   "cell_type": "code",
   "execution_count": 2,
   "metadata": {},
   "outputs": [],
   "source": [
    "def generate_linear(n=100):\n",
    "    pts=np.random.uniform(0,1,(n,2))\n",
    "    inputs=[]\n",
    "    labels=[]\n",
    "    for pt in pts:\n",
    "        inputs.append([pt[0],pt[1]])\n",
    "        distance=(pt[0]-pt[1])/1.414\n",
    "        if pt[0]>pt[1]:\n",
    "            labels.append(0)\n",
    "        else:\n",
    "            labels.append(1)\n",
    "\n",
    "    return np.array(inputs),np.array(labels).reshape(n,1)\n",
    "\n",
    "\n",
    "def generate_XOR_easy():\n",
    "    inputs=[]\n",
    "    labels=[]\n",
    "    for i in range(11):\n",
    "        inputs.append([0.1*i,0.1*i])\n",
    "        labels.append(0)\n",
    "        if 0.1*i==0.5:\n",
    "            continue\n",
    "            \n",
    "        inputs.append([0.1*i,1-0.1*i])\n",
    "        labels.append(1)\n",
    "    \n",
    "    return np.array(inputs),np.array(labels).reshape(21,1)"
   ]
  },
  {
   "cell_type": "markdown",
   "metadata": {},
   "source": [
    "<h3>Draw result of predict and ground truth</h3>"
   ]
  },
  {
   "cell_type": "code",
   "execution_count": 3,
   "metadata": {},
   "outputs": [],
   "source": [
    "def show_result(x,y,pred_y):\n",
    "    plt.figure(figsize=(16,8))\n",
    "    plt.subplot(1,2,1)\n",
    "    plt.title('Ground truth',fontsize=18)\n",
    "    for i in range(x.shape[0]):\n",
    "        if y[i]==0:\n",
    "            plt.plot(x[i][0],x[i][1],'ro')\n",
    "        else:\n",
    "            plt.plot(x[i][0],x[i][1],'bo')\n",
    "        \n",
    "    plt.subplot(1,2,2)\n",
    "    plt.title('Predict result',fontsize=18)\n",
    "    for i in range(x.shape[0]):\n",
    "        if pred_y[i]<0.5:\n",
    "            plt.plot(x[i][0],x[i][1],'ro')\n",
    "        else:\n",
    "            plt.plot(x[i][0],x[i][1],'bo')            \n",
    "    \n",
    "#     plt.savefig('./image.jpg',dpi=300)\n",
    "    plt.show()"
   ]
  },
  {
   "cell_type": "markdown",
   "metadata": {},
   "source": [
    "<h3>Initialize neural network</h3>"
   ]
  },
  {
   "cell_type": "code",
   "execution_count": 4,
   "metadata": {},
   "outputs": [],
   "source": [
    "def init_layers(nn_architecture, seed = 99):\n",
    "    # random seed initiation\n",
    "    np.random.seed(seed)\n",
    "    # number of layers in our neural network\n",
    "    number_of_layers = len(nn_architecture)\n",
    "    # parameters storage initiation\n",
    "    params_values = {}\n",
    "    \n",
    "    # iteration over network layers\n",
    "    for idx, layer in enumerate(nn_architecture):\n",
    "        # we number network layers from 1\n",
    "        layer_idx = idx + 1\n",
    "        \n",
    "        # extracting the number of units in layers\n",
    "        layer_input_size = layer[\"input_dim\"]\n",
    "        layer_output_size = layer[\"output_dim\"]\n",
    "        \n",
    "        # initiating the values of the W matrix\n",
    "        # and vector b for subsequent layers\n",
    "        params_values['W' + str(layer_idx)] = np.random.randn(\n",
    "            layer_output_size, layer_input_size) * 0.1\n",
    "        params_values['b' + str(layer_idx)] = np.random.randn(\n",
    "            layer_output_size, 1) * 0.1\n",
    "        \n",
    "    return params_values"
   ]
  },
  {
   "cell_type": "markdown",
   "metadata": {},
   "source": [
    "<h3>Define the functions of activation</h3>"
   ]
  },
  {
   "cell_type": "code",
   "execution_count": 5,
   "metadata": {},
   "outputs": [],
   "source": [
    "def sigmoid(Z):\n",
    "    return 1/(1+np.exp(-Z))\n",
    "\n",
    "def relu(Z):\n",
    "    return np.maximum(0,Z)\n",
    "\n",
    "def NONE(Z):\n",
    "    return np.array(Z)\n",
    "\n",
    "def sigmoid_backward(dA, Z):\n",
    "    sig = sigmoid(Z)\n",
    "    return dA * sig * (1 - sig)\n",
    "\n",
    "def relu_backward(dA, Z):\n",
    "    dZ = np.array(dA, copy = True)\n",
    "    dZ[Z <= 0] = 0;\n",
    "    return dZ;\n",
    "\n",
    "def NONE_backward(dA,Z):\n",
    "    return np.array(Z)"
   ]
  },
  {
   "cell_type": "markdown",
   "metadata": {},
   "source": [
    "<h3>Define the functions of forward propagation</h3>"
   ]
  },
  {
   "cell_type": "code",
   "execution_count": 6,
   "metadata": {},
   "outputs": [],
   "source": [
    "def single_layer_forward_propagation(A_prev, W_curr, b_curr, activation=\"relu\"):\n",
    "    # calculation of the input value for the activation function\n",
    "    Z_curr = np.dot(W_curr, A_prev) + b_curr\n",
    "    \n",
    "    # selection of activation function\n",
    "    if activation is \"relu\":\n",
    "        activation_func = relu\n",
    "    elif activation is \"sigmoid\":\n",
    "        activation_func = sigmoid\n",
    "    elif activation is \"None\":\n",
    "        activation_func = NONE\n",
    "        \n",
    "    # return of calculated activation A and the intermediate Z matrix\n",
    "    return activation_func(Z_curr), Z_curr\n",
    "\n",
    "def full_forward_propagation(X, params_values, nn_architecture):\n",
    "    # creating a temporary memory to store the information needed for a backward step\n",
    "    memory = {}\n",
    "    # X vector is the activation for layer 0 \n",
    "    A_curr = X\n",
    "    \n",
    "    for idx, layer in enumerate(nn_architecture):\n",
    "        # we number network layers from 1\n",
    "        layer_idx = idx + 1\n",
    "        # transfer the activation from the previous iteration\n",
    "        A_prev = A_curr\n",
    "        \n",
    "        # extraction of the activation function for the current layer\n",
    "        activ_function_curr = layer[\"activation\"]\n",
    "        # extraction of W for the current layer\n",
    "        W_curr = params_values[\"W\" + str(layer_idx)]\n",
    "        # extraction of b for the current layer\n",
    "        b_curr = params_values[\"b\" + str(layer_idx)]\n",
    "        # calculation of activation for the current layer\n",
    "        A_curr, Z_curr = single_layer_forward_propagation(A_prev, W_curr, b_curr, activ_function_curr)\n",
    "        \n",
    "        # saving calculated values in the memory\n",
    "        memory[\"A\" + str(idx)] = A_prev\n",
    "        memory[\"Z\" + str(layer_idx)] = Z_curr\n",
    "       \n",
    "    # return of prediction vector and a dictionary containing intermediate values\n",
    "    return A_curr, memory"
   ]
  },
  {
   "cell_type": "markdown",
   "metadata": {},
   "source": [
    "<h3>Define the functions to calculate the loss</h3>"
   ]
  },
  {
   "cell_type": "code",
   "execution_count": 7,
   "metadata": {},
   "outputs": [],
   "source": [
    "# Binary crossentropy\n",
    "\n",
    "def get_cost_value(Y_hat, Y):\n",
    "    m = Y_hat.shape[1]\n",
    "    # calculation of the cost according to the formula\n",
    "    cost = -1 / m * (np.dot(Y, np.log(Y_hat).T) + np.dot(1 - Y, np.log(1 - Y_hat).T))\n",
    "    return np.squeeze(cost)"
   ]
  },
  {
   "cell_type": "markdown",
   "metadata": {},
   "source": [
    "<h3>Define the functions of convert probability into class and calculate accuracy </h3>"
   ]
  },
  {
   "cell_type": "code",
   "execution_count": 8,
   "metadata": {},
   "outputs": [],
   "source": [
    "# an auxiliary function that converts probability into class\n",
    "def convert_prob_into_class(probs):\n",
    "    probs_ = np.copy(probs)\n",
    "    probs_[probs_ > 0.5] = 1\n",
    "    probs_[probs_ <= 0.5] = 0\n",
    "    return probs_\n",
    "\n",
    "\n",
    "def get_accuracy_value(Y_hat, Y):\n",
    "    Y_hat_ = convert_prob_into_class(Y_hat)\n",
    "    return (Y_hat_ == Y).all(axis=0).mean()"
   ]
  },
  {
   "cell_type": "markdown",
   "metadata": {},
   "source": [
    "<h3>Define the functions of backward propagation</h3>"
   ]
  },
  {
   "cell_type": "code",
   "execution_count": 9,
   "metadata": {},
   "outputs": [],
   "source": [
    "def single_layer_backward_propagation(dA_curr, W_curr, b_curr, Z_curr, A_prev, activation=\"relu\"):\n",
    "    m = A_prev.shape[1]\n",
    "    \n",
    "    # selection of activation function\n",
    "    if activation is \"relu\":\n",
    "        backward_activation_func = relu_backward\n",
    "    elif activation is \"sigmoid\":\n",
    "        backward_activation_func = sigmoid_backward\n",
    "    elif activation is \"None\":\n",
    "        backward_activation_func = NONE_backward\n",
    "    \n",
    "    # calculation of the activation function derivative\n",
    "    dZ_curr = backward_activation_func(dA_curr, Z_curr)\n",
    "    \n",
    "    # derivative of the matrix W\n",
    "    dW_curr = np.dot(dZ_curr, A_prev.T) / m\n",
    "    # derivative of the vector b\n",
    "    db_curr = np.sum(dZ_curr, axis=1, keepdims=True) / m\n",
    "    # derivative of the matrix A_prev\n",
    "    dA_prev = np.dot(W_curr.T, dZ_curr)\n",
    "\n",
    "    return dA_prev, dW_curr, db_curr\n",
    "\n",
    "def full_backward_propagation(Y_hat, Y, memory, params_values, nn_architecture):\n",
    "    grads_values = {}\n",
    "\n",
    "    m = Y.shape[1]\n",
    "    # a hack ensuring the same shape of the prediction vector and labels vector\n",
    "    Y = Y.reshape(Y_hat.shape)\n",
    "    \n",
    "    # initiation of gradient descent algorithm\n",
    "    dA_prev = - (np.divide(Y, Y_hat) - np.divide(1 - Y, 1 - Y_hat));\n",
    "    \n",
    "    for layer_idx_prev, layer in reversed(list(enumerate(nn_architecture))):\n",
    "        # we number network layers from 1\n",
    "        layer_idx_curr = layer_idx_prev + 1\n",
    "        # extraction of the activation function for the current layer\n",
    "        activ_function_curr = layer[\"activation\"]\n",
    "        \n",
    "        dA_curr = dA_prev\n",
    "        \n",
    "        A_prev = memory[\"A\" + str(layer_idx_prev)]\n",
    "        Z_curr = memory[\"Z\" + str(layer_idx_curr)]\n",
    "        \n",
    "        W_curr = params_values[\"W\" + str(layer_idx_curr)]\n",
    "        b_curr = params_values[\"b\" + str(layer_idx_curr)]\n",
    "        \n",
    "        dA_prev, dW_curr, db_curr = single_layer_backward_propagation(\n",
    "            dA_curr, W_curr, b_curr, Z_curr, A_prev, activ_function_curr)\n",
    "        \n",
    "        grads_values[\"dW\" + str(layer_idx_curr)] = dW_curr\n",
    "        grads_values[\"db\" + str(layer_idx_curr)] = db_curr\n",
    "    \n",
    "    return grads_values"
   ]
  },
  {
   "cell_type": "markdown",
   "metadata": {},
   "source": [
    "<h3>Define functions of optimizer</h3>"
   ]
  },
  {
   "cell_type": "code",
   "execution_count": 10,
   "metadata": {},
   "outputs": [],
   "source": [
    "def update(params_values, grads_values, nn_architecture, learning_rate):\n",
    "    for layer_idx, layer in enumerate(nn_architecture, 1):\n",
    "        params_values[\"W\" + str(layer_idx)] -= learning_rate * grads_values[\"dW\" + str(layer_idx)]        \n",
    "        params_values[\"b\" + str(layer_idx)] -= learning_rate * grads_values[\"db\" + str(layer_idx)]\n",
    "\n",
    "    return params_values"
   ]
  },
  {
   "cell_type": "markdown",
   "metadata": {},
   "source": [
    "<h3>Functions of training</h3>"
   ]
  },
  {
   "cell_type": "code",
   "execution_count": 11,
   "metadata": {},
   "outputs": [],
   "source": [
    "def train(X, Y, nn_architecture, epochs, learning_rate):\n",
    "    # initiation of neural net parameters\n",
    "    params_values = init_layers(nn_architecture, 2)\n",
    "    # initiation of lists storing the history of metrics calculated during the learning process \n",
    "    cost_history = []\n",
    "    accuracy_history = []\n",
    "    \n",
    "    for i in range(epochs):\n",
    "        # step forward\n",
    "        Y_hat, cashe = full_forward_propagation(X, params_values, nn_architecture)\n",
    "        \n",
    "        # calculating metrics and saving them in history\n",
    "        cost = get_cost_value(Y_hat, Y)\n",
    "        cost_history.append(cost)\n",
    "        accuracy = get_accuracy_value(Y_hat, Y)\n",
    "        accuracy_history.append(accuracy)\n",
    "        \n",
    "        # step backward - calculating gradient\n",
    "        grads_values = full_backward_propagation(Y_hat, Y, cashe, params_values, nn_architecture)\n",
    "        # updating model state\n",
    "        params_values = update(params_values, grads_values, nn_architecture, learning_rate)\n",
    "        \n",
    "        if(i % 50 == 0):\n",
    "            print(\"epoch: {:05} - loss: {:.5f} - accuracy: {:.5f}\".format(i, cost, accuracy))\n",
    "            if cost<0.1:\n",
    "                break\n",
    "            \n",
    "    return params_values,cost_history,accuracy_history"
   ]
  },
  {
   "cell_type": "code",
   "execution_count": 12,
   "metadata": {},
   "outputs": [],
   "source": [
    "#Define network\n",
    "\n",
    "nn_architecture = [\n",
    "    {\"input_dim\": 2, \"output_dim\": 5, \"activation\": \"relu\"},\n",
    "    {\"input_dim\": 5, \"output_dim\": 10, \"activation\": \"relu\"},\n",
    "    {\"input_dim\": 10, \"output_dim\": 1, \"activation\": \"sigmoid\"},\n",
    "]"
   ]
  },
  {
   "cell_type": "markdown",
   "metadata": {},
   "source": [
    "<h3>Linear data</h3>"
   ]
  },
  {
   "cell_type": "code",
   "execution_count": 13,
   "metadata": {},
   "outputs": [],
   "source": [
    "#Create data\n",
    "\n",
    "x,y=generate_linear(n=100)"
   ]
  },
  {
   "cell_type": "code",
   "execution_count": 14,
   "metadata": {},
   "outputs": [
    {
     "name": "stdout",
     "output_type": "stream",
     "text": [
      "epoch: 00000 - loss: 0.70050 - accuracy: 0.47000\n",
      "epoch: 00050 - loss: 0.69086 - accuracy: 0.53000\n",
      "epoch: 00100 - loss: 0.68931 - accuracy: 0.53000\n",
      "epoch: 00150 - loss: 0.68757 - accuracy: 0.53000\n",
      "epoch: 00200 - loss: 0.68428 - accuracy: 0.53000\n",
      "epoch: 00250 - loss: 0.67724 - accuracy: 0.53000\n",
      "epoch: 00300 - loss: 0.65941 - accuracy: 0.53000\n",
      "epoch: 00350 - loss: 0.60777 - accuracy: 0.74000\n",
      "epoch: 00400 - loss: 0.48638 - accuracy: 0.83000\n",
      "epoch: 00450 - loss: 0.33169 - accuracy: 0.93000\n",
      "epoch: 00500 - loss: 0.21904 - accuracy: 0.97000\n",
      "epoch: 00550 - loss: 0.15688 - accuracy: 0.97000\n",
      "epoch: 00600 - loss: 0.12097 - accuracy: 0.99000\n",
      "epoch: 00650 - loss: 0.09831 - accuracy: 1.00000\n"
     ]
    }
   ],
   "source": [
    "#Training\n",
    "\n",
    "params_values,cost_history,accuracy_history = train(np.transpose(x), np.transpose(y), nn_architecture, 2000,0.1)"
   ]
  },
  {
   "cell_type": "code",
   "execution_count": 15,
   "metadata": {},
   "outputs": [
    {
     "data": {
      "image/png": "[encoded data removed]",
      "text/plain": [
       "<Figure size 1152x576 with 1 Axes>"
      ]
     },
     "metadata": {
      "needs_background": "light"
     },
     "output_type": "display_data"
    }
   ],
   "source": [
    "#Draw loss\n",
    "\n",
    "plt.figure(figsize=(16,8))\n",
    "plt.title('loss',fontsize=18)\n",
    "plt.ylabel(\"cost\",fontsize=18)\n",
    "plt.xlabel(\"Epoch\",fontsize=18) \n",
    "plt.plot(range(len(cost_history)),cost_history)\n",
    "plt.show()"
   ]
  },
  {
   "cell_type": "code",
   "execution_count": 16,
   "metadata": {},
   "outputs": [
    {
     "data": {
      "image/png": "[encoded data removed]",
      "text/plain": [
       "<Figure size 1152x576 with 1 Axes>"
      ]
     },
     "metadata": {
      "needs_background": "light"
     },
     "output_type": "display_data"
    }
   ],
   "source": [
    "#Draw accuracy\n",
    "\n",
    "plt.figure(figsize=(16,8))\n",
    "plt.title('Accuracy',fontsize=18)\n",
    "plt.ylabel(\"Accuracy\",fontsize=18)\n",
    "plt.xlabel(\"Epoch\",fontsize=18) \n",
    "plt.plot(range(len(accuracy_history)),accuracy_history)\n",
    "plt.show()"
   ]
  },
  {
   "cell_type": "code",
   "execution_count": 17,
   "metadata": {
    "scrolled": false
   },
   "outputs": [
    {
     "data": {
      "image/png": "[encoded data removed]",
      "text/plain": [
       "<Figure size 1152x576 with 2 Axes>"
      ]
     },
     "metadata": {
      "needs_background": "light"
     },
     "output_type": "display_data"
    }
   ],
   "source": [
    "# Prediction\n",
    "Y_test_hat, _ = full_forward_propagation(np.transpose(x), params_values, nn_architecture)\n",
    "show_result(x, y, Y_test_hat.reshape(-1,1))"
   ]
  },
  {
   "cell_type": "code",
   "execution_count": 18,
   "metadata": {},
   "outputs": [
    {
     "data": {
      "text/plain": [
       "array([[0.91500299, 0.83936145, 0.39229974, 0.01291641, 0.01574992,\n",
       "        0.18115717, 0.84803288, 0.96106892, 0.01714685, 0.11019754,\n",
       "        0.01507689, 0.99998748, 0.9996716 , 0.50521578, 0.41099026,\n",
       "        0.82805076, 0.83386326, 0.99976868, 0.01426218, 0.95412472,\n",
       "        0.99407165, 0.01896671, 0.96039665, 0.99986065, 0.01641249,\n",
       "        0.01167914, 0.06402604, 0.96784894, 0.01985934, 0.01502249,\n",
       "        0.13222394, 0.99793302, 0.01650528, 0.01136582, 0.96335868,\n",
       "        0.99988429, 0.01352525, 0.99669507, 0.9998256 , 0.97019356,\n",
       "        0.99955993, 0.01372455, 0.99989848, 0.99931714, 0.05045752,\n",
       "        0.33246052, 0.01532854, 0.99981207, 0.02537098, 0.999969  ,\n",
       "        0.75130135, 0.01851857, 0.0213269 , 0.99362563, 0.93596479,\n",
       "        0.99974316, 0.19497096, 0.14503052, 0.88920645, 0.99991045,\n",
       "        0.99343   , 0.02084514, 0.23801183, 0.66137516, 0.16743282,\n",
       "        0.02026591, 0.01688938, 0.93117465, 0.77458252, 0.97501073,\n",
       "        0.69759922, 0.96560132, 0.99673196, 0.01940033, 0.24476464,\n",
       "        0.6929667 , 0.99994088, 0.01313108, 0.95961321, 0.99997281,\n",
       "        0.99467399, 0.95754396, 0.98457097, 0.65559199, 0.01445807,\n",
       "        0.43536201, 0.01383209, 0.30873678, 0.0134606 , 0.10126251,\n",
       "        0.74674453, 0.41291849, 0.99081938, 0.99449689, 0.98177407,\n",
       "        0.01294348, 0.02167122, 0.0222307 , 0.02077758, 0.99941091]])"
      ]
     },
     "execution_count": 18,
     "metadata": {},
     "output_type": "execute_result"
    }
   ],
   "source": [
    "Y_test_hat"
   ]
  },
  {
   "cell_type": "code",
   "execution_count": 19,
   "metadata": {},
   "outputs": [
    {
     "name": "stdout",
     "output_type": "stream",
     "text": [
      "Test set accuracy: 1.00 \n"
     ]
    }
   ],
   "source": [
    "# Accuracy\n",
    "acc_test = get_accuracy_value(Y_test_hat, np.transpose(y))\n",
    "print(\"Test set accuracy: {:.2f} \".format(acc_test))"
   ]
  },
  {
   "cell_type": "markdown",
   "metadata": {},
   "source": [
    "<h3>XOR data</h3>"
   ]
  },
  {
   "cell_type": "code",
   "execution_count": 20,
   "metadata": {},
   "outputs": [],
   "source": [
    "#Create data\n",
    "\n",
    "x,y=generate_XOR_easy()"
   ]
  },
  {
   "cell_type": "code",
   "execution_count": 21,
   "metadata": {},
   "outputs": [
    {
     "name": "stdout",
     "output_type": "stream",
     "text": [
      "epoch: 00000 - loss: 0.69231 - accuracy: 0.52381\n",
      "epoch: 00050 - loss: 0.69190 - accuracy: 0.52381\n",
      "epoch: 00100 - loss: 0.69184 - accuracy: 0.52381\n",
      "epoch: 00150 - loss: 0.69180 - accuracy: 0.52381\n",
      "epoch: 00200 - loss: 0.69175 - accuracy: 0.52381\n",
      "epoch: 00250 - loss: 0.69168 - accuracy: 0.52381\n",
      "epoch: 00300 - loss: 0.69157 - accuracy: 0.52381\n",
      "epoch: 00350 - loss: 0.69145 - accuracy: 0.52381\n",
      "epoch: 00400 - loss: 0.69134 - accuracy: 0.52381\n",
      "epoch: 00450 - loss: 0.69121 - accuracy: 0.52381\n",
      "epoch: 00500 - loss: 0.69104 - accuracy: 0.52381\n",
      "epoch: 00550 - loss: 0.69084 - accuracy: 0.52381\n",
      "epoch: 00600 - loss: 0.69058 - accuracy: 0.52381\n",
      "epoch: 00650 - loss: 0.69027 - accuracy: 0.52381\n",
      "epoch: 00700 - loss: 0.68988 - accuracy: 0.52381\n",
      "epoch: 00750 - loss: 0.68940 - accuracy: 0.52381\n",
      "epoch: 00800 - loss: 0.68876 - accuracy: 0.52381\n",
      "epoch: 00850 - loss: 0.68793 - accuracy: 0.52381\n",
      "epoch: 00900 - loss: 0.68682 - accuracy: 0.52381\n",
      "epoch: 00950 - loss: 0.68529 - accuracy: 0.52381\n",
      "epoch: 01000 - loss: 0.68318 - accuracy: 0.52381\n",
      "epoch: 01050 - loss: 0.68012 - accuracy: 0.57143\n",
      "epoch: 01100 - loss: 0.67558 - accuracy: 0.61905\n",
      "epoch: 01150 - loss: 0.66872 - accuracy: 0.66667\n",
      "epoch: 01200 - loss: 0.65863 - accuracy: 0.71429\n",
      "epoch: 01250 - loss: 0.64321 - accuracy: 0.71429\n",
      "epoch: 01300 - loss: 0.62084 - accuracy: 0.76190\n",
      "epoch: 01350 - loss: 0.58955 - accuracy: 0.76190\n",
      "epoch: 01400 - loss: 0.54937 - accuracy: 0.80952\n",
      "epoch: 01450 - loss: 0.49610 - accuracy: 0.85714\n",
      "epoch: 01500 - loss: 0.43264 - accuracy: 0.90476\n",
      "epoch: 01550 - loss: 0.35815 - accuracy: 0.95238\n",
      "epoch: 01600 - loss: 0.30283 - accuracy: 0.95238\n",
      "epoch: 01650 - loss: 0.24109 - accuracy: 0.95238\n",
      "epoch: 01700 - loss: 0.18668 - accuracy: 0.95238\n",
      "epoch: 01750 - loss: 0.16089 - accuracy: 1.00000\n",
      "epoch: 01800 - loss: 0.12370 - accuracy: 0.95238\n",
      "epoch: 01850 - loss: 0.09908 - accuracy: 1.00000\n"
     ]
    }
   ],
   "source": [
    "#Training\n",
    "\n",
    "params_values,cost_history,accuracy_history = train(np.transpose(x), np.transpose(y), nn_architecture, 2000,0.1)"
   ]
  },
  {
   "cell_type": "code",
   "execution_count": 22,
   "metadata": {},
   "outputs": [
    {
     "data": {
      "image/png": "[encoded data removed]",
      "text/plain": [
       "<Figure size 1152x576 with 1 Axes>"
      ]
     },
     "metadata": {
      "needs_background": "light"
     },
     "output_type": "display_data"
    }
   ],
   "source": [
    "#Draw loss\n",
    "\n",
    "plt.figure(figsize=(16,8))\n",
    "plt.title('loss',fontsize=18)\n",
    "plt.ylabel(\"cost\",fontsize=18)\n",
    "plt.xlabel(\"Epoch\",fontsize=18) \n",
    "plt.plot(range(len(cost_history)),cost_history)\n",
    "plt.show()"
   ]
  },
  {
   "cell_type": "code",
   "execution_count": 23,
   "metadata": {},
   "outputs": [
    {
     "data": {
      "image/png": "[encoded data removed]",
      "text/plain": [
       "<Figure size 1152x576 with 1 Axes>"
      ]
     },
     "metadata": {
      "needs_background": "light"
     },
     "output_type": "display_data"
    }
   ],
   "source": [
    "#Draw accuracy\n",
    "\n",
    "plt.figure(figsize=(16,8))\n",
    "plt.title('Accuracy',fontsize=18)\n",
    "plt.ylabel(\"Accuracy\",fontsize=18)\n",
    "plt.xlabel(\"Epoch\",fontsize=18) \n",
    "plt.plot(range(len(accuracy_history)),accuracy_history)\n",
    "plt.show()"
   ]
  },
  {
   "cell_type": "code",
   "execution_count": 24,
   "metadata": {},
   "outputs": [
    {
     "data": {
      "image/png": "[encoded data removed]",
      "text/plain": [
       "<Figure size 1152x576 with 2 Axes>"
      ]
     },
     "metadata": {
      "needs_background": "light"
     },
     "output_type": "display_data"
    }
   ],
   "source": [
    "# Prediction\n",
    "Y_test_hat, _ = full_forward_propagation(np.transpose(x), params_values, nn_architecture)\n",
    "show_result(x, y, Y_test_hat.reshape(-1,1))"
   ]
  },
  {
   "cell_type": "code",
   "execution_count": 25,
   "metadata": {},
   "outputs": [
    {
     "data": {
      "text/plain": [
       "array([[0.00558772, 0.99867935, 0.01012527, 0.99466112, 0.01830232,\n",
       "        0.97867797, 0.03285863, 0.88443008, 0.06147493, 0.51034213,\n",
       "        0.12630276, 0.12914998, 0.86757556, 0.13205168, 0.96338452,\n",
       "        0.13513715, 0.96338452, 0.13880212, 0.96338452, 0.1425501 ,\n",
       "        0.96338452]])"
      ]
     },
     "execution_count": 25,
     "metadata": {},
     "output_type": "execute_result"
    }
   ],
   "source": [
    "Y_test_hat"
   ]
  },
  {
   "cell_type": "code",
   "execution_count": 26,
   "metadata": {},
   "outputs": [
    {
     "name": "stdout",
     "output_type": "stream",
     "text": [
      "Test set accuracy: 1.00 \n"
     ]
    }
   ],
   "source": [
    "# Accuracy\n",
    "acc_test = get_accuracy_value(Y_test_hat, np.transpose(y))\n",
    "print(\"Test set accuracy: {:.2f} \".format(acc_test))"
   ]
  },
  {
   "cell_type": "markdown",
   "metadata": {},
   "source": [
    "<h3>Reference : https://github.com/SkalskiP/ILearnDeepLearning.py/blob/master/01_mysteries_of_neural_networks/03_numpy_neural_net/Numpy%20deep%20neural%20network.ipynb</h3>"
   ]
  }
 ],
 "metadata": {
  "kernelspec": {
   "display_name": "Python 3",
   "language": "python",
   "name": "python3"
  },
  "language_info": {
   "codemirror_mode": {
    "name": "ipython",
    "version": 3
   },
   "file_extension": ".py",
   "mimetype": "text/x-python",
   "name": "python",
   "nbconvert_exporter": "python",
   "pygments_lexer": "ipython3",
   "version": "3.7.6"
  }
 },
 "nbformat": 4,
 "nbformat_minor": 4
}
