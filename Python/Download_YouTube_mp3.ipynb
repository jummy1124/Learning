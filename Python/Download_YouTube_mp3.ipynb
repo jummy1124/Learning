{
 "cells": [
  {
   "cell_type": "code",
   "execution_count": 1,
   "metadata": {},
   "outputs": [],
   "source": [
    "from pytube import YouTube\n",
    "from moviepy.editor import *\n",
    "\n",
    "\n",
    "def progress(stream, chunk, bytes_remaining):\n",
    "    contentSize = video.filesize\n",
    "    size = contentSize - bytes_remaining\n",
    "\n",
    "    print('\\r' + '[Download progress]:[%s%s]%.2f%%;' % (\n",
    "    '█' * int(size*20/contentSize), ' '*(20-int(size*20/contentSize)), float(size/contentSize*100)), end='')\n",
    "\n",
    "\n",
    "url = 'https://www.youtube.com/watch?v=bu7nU9Mhpyo'\n",
    "yt = YouTube(url, on_progress_callback=progress)\n",
    "video = yt.streams.first()\n",
    "video.download()\n"
   ]
  },
  {
   "cell_type": "code",
   "execution_count": 2,
   "metadata": {},
   "outputs": [],
   "source": [
    "video = VideoFileClip('周杰倫 Jay Chou (特別演出 派偉俊)【告白氣球 Love Confession】Official MV.mp4')\n",
    "video.audio.write_audiofile('test.mp3')"
   ]
  },
  {
   "cell_type": "code",
   "execution_count": null,
   "metadata": {},
   "outputs": [],
   "source": []
  }
 ],
 "metadata": {
  "kernelspec": {
   "display_name": "Python 3",
   "language": "python",
   "name": "python3"
  },
  "language_info": {
   "codemirror_mode": {
    "name": "ipython",
    "version": 3
   },
   "file_extension": ".py",
   "mimetype": "text/x-python",
   "name": "python",
   "nbconvert_exporter": "python",
   "pygments_lexer": "ipython3",
   "version": "3.7.6"
  }
 },
 "nbformat": 4,
 "nbformat_minor": 4
}
