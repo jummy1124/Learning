{
 "cells": [
  {
   "cell_type": "code",
   "execution_count": 3,
   "metadata": {},
   "outputs": [],
   "source": [
    "import mysql.connector\n",
    "from mysql.connector import Error\n",
    "from mysql.connector import errorcode"
   ]
  },
  {
   "cell_type": "code",
   "execution_count": 17,
   "metadata": {},
   "outputs": [
    {
     "name": "stdout",
     "output_type": "stream",
     "text": [
      "1 Record inserted successfully into Laptop table\n",
      "MySQL connection is closed\n"
     ]
    }
   ],
   "source": [
    "# insert mysql\n",
    "\n",
    "try:\n",
    "    connection = mysql.connector.connect(host='IP',\n",
    "                                         database='dbname',\n",
    "                                         user='username',\n",
    "                                         password='PW')\n",
    "    mySql_insert_query = \"\"\"INSERT INTO tablename (column_name) \n",
    "                           VALUES \n",
    "                           ('values') \"\"\"\n",
    "\n",
    "    cursor = connection.cursor()\n",
    "    cursor.execute(mySql_insert_query)\n",
    "    connection.commit()\n",
    "    print(cursor.rowcount, \"Record inserted successfully into Laptop table\")\n",
    "    cursor.close()\n",
    "\n",
    "except mysql.connector.Error as error:\n",
    "    print(\"Failed to insert record into Laptop table {}\".format(error))\n",
    "\n",
    "finally:\n",
    "    if (connection.is_connected()):\n",
    "        connection.close()\n",
    "        print(\"MySQL connection is closed\")"
   ]
  },
  {
   "cell_type": "code",
   "execution_count": 21,
   "metadata": {},
   "outputs": [
    {
     "name": "stdout",
     "output_type": "stream",
     "text": [
      "All Record Deleted successfully \n",
      "MySQL connection is closed\n"
     ]
    }
   ],
   "source": [
    "#delect mysql\n",
    "\n",
    "try:\n",
    "    connection = mysql.connector.connect(host='IP',\n",
    "                                         database='dbname',\n",
    "                                         user='username',\n",
    "                                         password='PW')\n",
    "#     cursor = connection.cursor()\n",
    "#     print(\"Displaying laptop record Before Deleting it\")\n",
    "#     sql_select_query = \"\"\"select * from tablename where id = \"values\" \"\"\"\n",
    "#     cursor.execute(sql_select_query)\n",
    "#     record = cursor.fetchone()\n",
    "#     print(record)\n",
    "\n",
    "#     sql_Delete_query = \"\"\"Delete from tablename where id = \"values\" \"\"\"\n",
    "#     cursor.execute(sql_Delete_query)\n",
    "#     connection.commit()\n",
    "\n",
    "#     cursor.execute(sql_select_query)\n",
    "#     records = cursor.fetchall()\n",
    "#     if len(records) == 0:\n",
    "#         print(\"\\nRecord Deleted successfully \")\n",
    "        \n",
    "        \n",
    "#     Delete All rows from a table\n",
    "    cursor = connection.cursor()\n",
    "    Delete_all_rows = \"\"\"truncate table tablename \"\"\"\n",
    "    cursor.execute(Delete_all_rows)\n",
    "    connection.commit()\n",
    "    print(\"All Record Deleted successfully \")\n",
    "\n",
    "except mysql.connector.Error as error:\n",
    "    print(\"Failed to delete record from table: {}\".format(error))\n",
    "finally:\n",
    "    if (connection.is_connected()):\n",
    "        cursor.close()\n",
    "        connection.close()\n",
    "        print(\"MySQL connection is closed\")"
   ]
  },
  {
   "cell_type": "code",
   "execution_count": null,
   "metadata": {},
   "outputs": [],
   "source": []
  }
 ],
 "metadata": {
  "kernelspec": {
   "display_name": "Python 3",
   "language": "python",
   "name": "python3"
  },
  "language_info": {
   "codemirror_mode": {
    "name": "ipython",
    "version": 3
   },
   "file_extension": ".py",
   "mimetype": "text/x-python",
   "name": "python",
   "nbconvert_exporter": "python",
   "pygments_lexer": "ipython3",
   "version": "3.7.3"
  }
 },
 "nbformat": 4,
 "nbformat_minor": 2
}
