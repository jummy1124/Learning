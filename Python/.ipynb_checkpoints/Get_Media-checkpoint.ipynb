{
 "cells": [
  {
   "cell_type": "code",
   "execution_count": 9,
   "metadata": {},
   "outputs": [],
   "source": [
    "import requests\n",
    "\n",
    "def downloadFile(AFileName):\n",
    "    # extract file name from AFileName\n",
    "    filename = AFileName.split(\"/\")[-1] \n",
    "    # download image using GET\n",
    "    rawImage = requests.get(AFileName, stream=True)\n",
    "    # save the image recieved into the file\n",
    "    with open(filename, 'wb') as fd:\n",
    "        for chunk in rawImage.iter_content(chunk_size=1024):\n",
    "            fd.write(chunk)\n",
    "    return\n",
    "\n",
    "downloadFile(\"http://www.howtowebscrape.com/examples/media/images/BigRabbit.mp4\")"
   ]
  },
  {
   "cell_type": "code",
   "execution_count": null,
   "metadata": {},
   "outputs": [],
   "source": []
  }
 ],
 "metadata": {
  "kernelspec": {
   "display_name": "Python 3",
   "language": "python",
   "name": "python3"
  },
  "language_info": {
   "codemirror_mode": {
    "name": "ipython",
    "version": 3
   },
   "file_extension": ".py",
   "mimetype": "text/x-python",
   "name": "python",
   "nbconvert_exporter": "python",
   "pygments_lexer": "ipython3",
   "version": "3.7.6"
  }
 },
 "nbformat": 4,
 "nbformat_minor": 4
}
