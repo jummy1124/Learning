{
 "cells": [
  {
   "cell_type": "code",
   "execution_count": 42,
   "metadata": {},
   "outputs": [],
   "source": [
    "import cv2\n",
    "import matplotlib.pyplot as plt\n",
    "\n",
    "image = cv2.imread('./images/image_000019.png')\n",
    "# gray = cv2.cvtColor(image, cv2.COLOR_BGR2GRAY)\n",
    "gray = cv2.cvtColor(image, cv2.COLOR_BGR2RGB)\n",
    "blurred = cv2.GaussianBlur(gray, (5, 5), 0)\n",
    "canny = cv2.Canny(blurred, 30, 150)\n",
    "(T, thresh) = cv2.threshold(blurred, 35, 255, cv2.THRESH_BINARY)\n",
    "\n",
    "# fig=plt.figure(figsize=(8, 8))\n",
    "# fig.add_subplot(1,2,1)\n",
    "# plt.imshow(blurred)\n",
    "# plt.show()\n",
    "# fig=plt.figure(figsize=(8, 8))\n",
    "# fig.add_subplot(1,2,2)\n",
    "# plt.imshow(canny)\n",
    "# plt.show()\n",
    "\n",
    "# cv2.imshow('Input', image)\n",
    "# cv2.imshow('Result', canny)\n",
    "# cv2.waitKey(0)"
   ]
  },
  {
   "cell_type": "code",
   "execution_count": 31,
   "metadata": {},
   "outputs": [
    {
     "data": {
      "image/png": "[encoded data removed]",
      "text/plain": [
       "<Figure size 432x288 with 4 Axes>"
      ]
     },
     "metadata": {
      "needs_background": "light"
     },
     "output_type": "display_data"
    }
   ],
   "source": [
    "import numpy as np\n",
    "import matplotlib.pyplot as plt\n",
    "\n",
    "width=5\n",
    "height=5\n",
    "rows = 1\n",
    "cols = 4\n",
    "axes=[]\n",
    "fig=plt.figure()\n",
    "\n",
    "for a in range(rows*cols):\n",
    "    b = np.random.randint(7, size=(height,width))\n",
    "    axes.append( fig.add_subplot(rows, cols, a+1) )\n",
    "    subplot_title=(\"Subplot\"+str(a))\n",
    "    axes[-1].set_title(subplot_title)  \n",
    "    plt.imshow(b)\n",
    "fig.tight_layout()    \n",
    "plt.show()"
   ]
  },
  {
   "cell_type": "code",
   "execution_count": null,
   "metadata": {},
   "outputs": [],
   "source": []
  }
 ],
 "metadata": {
  "kernelspec": {
   "display_name": "Python 3",
   "language": "python",
   "name": "python3"
  },
  "language_info": {
   "codemirror_mode": {
    "name": "ipython",
    "version": 3
   },
   "file_extension": ".py",
   "mimetype": "text/x-python",
   "name": "python",
   "nbconvert_exporter": "python",
   "pygments_lexer": "ipython3",
   "version": "3.7.6"
  }
 },
 "nbformat": 4,
 "nbformat_minor": 4
}
