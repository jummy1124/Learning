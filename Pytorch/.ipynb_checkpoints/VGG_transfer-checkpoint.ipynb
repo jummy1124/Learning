{
 "cells": [
  {
   "cell_type": "code",
   "execution_count": 1,
   "metadata": {},
   "outputs": [],
   "source": [
    "from __future__ import print_function, division\n",
    "\n",
    "import torch\n",
    "import torch.nn as nn\n",
    "import torch.nn.functional as F\n",
    "import torch.optim as optim\n",
    "from torchvision import datasets, transforms\n",
    "from torch.autograd import Variable\n",
    "import numpy as np\n",
    "from torchvision import models"
   ]
  },
  {
   "cell_type": "code",
   "execution_count": 4,
   "metadata": {},
   "outputs": [
    {
     "name": "stdout",
     "output_type": "stream",
     "text": [
      "epoch 1\n",
      "Train Loss:1.0188 Acc:88.0000\n"
     ]
    }
   ],
   "source": [
    "from PIL import Image\n",
    "from torchvision import transforms\n",
    "\n",
    "batch_size = 32\n",
    "learning_rate = 0.0002\n",
    "epoch = 1\n",
    "\n",
    "train_transforms = transforms.Compose([\n",
    "    transforms.CenterCrop(224),\n",
    "    transforms.ToTensor(),\n",
    "    transforms.Normalize(mean=[0.485, 0.456, 0.406], std=[0.229, 0.224, 0.225]),\n",
    "])\n",
    "\n",
    "val_transforms = transforms.Compose([\n",
    "    transforms.Resize(256),\n",
    "    transforms.RandomResizedCrop(224),\n",
    "    transforms.ToTensor(),\n",
    "    transforms.Normalize(mean=[0.485, 0.456, 0.406], std=[0.229, 0.224, 0.225]),\n",
    "])\n",
    "\n",
    "\n",
    "\n",
    "train_dir = './data/cat_dog/train'\n",
    "train_datasets = datasets.ImageFolder(train_dir, transform=train_transforms) \n",
    "train_dataloader = torch.utils.data.DataLoader(train_datasets, batch_size=batch_size, shuffle=True)\n",
    "\n",
    "val_dir = './data/cat_dog/val'\n",
    "val_datasets = datasets.ImageFolder(val_dir, transform=val_transforms)\n",
    "val_dataloader = torch.utils.data.DataLoader(val_datasets, batch_size=batch_size, shuffle=True)\n",
    "\n",
    "\n",
    "class VGGNet(nn.Module):\n",
    "    def __init__(self, num_classes=2):\n",
    "        super(VGGNet, self).__init__()\n",
    "        net = models.vgg16(pretrained=True)\n",
    "        net.classifier = nn.Sequential()\n",
    "        self.features = net\n",
    "        self.classifier = nn.Sequential(\n",
    "                nn.Linear(512 * 7 * 7, 512),\n",
    "                nn.ReLU(True),\n",
    "                nn.Dropout(),\n",
    "                nn.Linear(512, 128),\n",
    "                nn.ReLU(True),\n",
    "                nn.Dropout(),\n",
    "                nn.Linear(128, num_classes),\n",
    "        )\n",
    "\n",
    "    def forward(self, x):\n",
    "        x = self.features(x)\n",
    "        x = x.view(x.size(0), -1)\n",
    "        x = self.classifier(x)\n",
    "        return x\n",
    "    \n",
    "\n",
    "model = VGGNet()\n",
    "if torch.cuda.is_available():\n",
    "    model.cuda()\n",
    "params = [{'params': md.parameters()} for md in model.children()\n",
    "          if md in [model.classifier]]\n",
    "optimizer = optim.Adam(model.parameters(), lr=learning_rate)\n",
    "loss_func = nn.CrossEntropyLoss()\n",
    "\n",
    "model.train()\n",
    "for i in range(epoch):\n",
    "    print('epoch {}'.format(i + 1))\n",
    "    train_loss = 0.\n",
    "    train_acc = 0.\n",
    "    for img, label in train_dataloader:\n",
    "        img = Variable(img).cuda()\n",
    "        label = Variable(label).cuda()\n",
    "        optimizer.zero_grad()\n",
    "        output = model(img)\n",
    "        loss = loss_func(output, label)\n",
    "        train_loss += loss.data.item()\n",
    "        pred = torch.max(output, 1)[1]\n",
    "        train_correct = (pred == label).sum().item()\n",
    "        train_acc += train_correct\n",
    "        loss.backward()\n",
    "        optimizer.step()\n",
    "\n",
    "    Loss = float(train_loss / (len(train_datasets)))*100\n",
    "    Acc = float(train_acc / (len(train_datasets)))*100\n",
    "    print(\"Train Loss:%.4f\" % Loss , \"Acc:%.4f\" % Acc)"
   ]
  },
  {
   "cell_type": "code",
   "execution_count": 5,
   "metadata": {},
   "outputs": [
    {
     "name": "stdout",
     "output_type": "stream",
     "text": [
      "Acc:91.0000\n"
     ]
    }
   ],
   "source": [
    "val_acc=0\n",
    "for img, label in val_dataloader:\n",
    "    model.eval()   \n",
    "    model.to('cpu')\n",
    "    output = model(img)\n",
    "    pred = torch.max(output, 1)[1]\n",
    "    val_correct = (pred == label).sum().item()\n",
    "    val_acc += val_correct\n",
    "\n",
    "Acc = float(val_acc / (len(val_datasets)))*100\n",
    "print(\"Acc:%.4f\" % Acc)"
   ]
  },
  {
   "cell_type": "code",
   "execution_count": null,
   "metadata": {},
   "outputs": [],
   "source": []
  }
 ],
 "metadata": {
  "kernelspec": {
   "display_name": "Python 3",
   "language": "python",
   "name": "python3"
  },
  "language_info": {
   "codemirror_mode": {
    "name": "ipython",
    "version": 3
   },
   "file_extension": ".py",
   "mimetype": "text/x-python",
   "name": "python",
   "nbconvert_exporter": "python",
   "pygments_lexer": "ipython3",
   "version": "3.7.6"
  }
 },
 "nbformat": 4,
 "nbformat_minor": 4
}
